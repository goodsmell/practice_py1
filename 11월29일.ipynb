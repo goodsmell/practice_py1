{
  "nbformat": 4,
  "nbformat_minor": 0,
  "metadata": {
    "colab": {
      "name": "Untitled2.ipynb",
      "provenance": [],
      "authorship_tag": "ABX9TyMP4wMVlyVWMj5BRd1Z5YfE",
      "include_colab_link": true
    },
    "kernelspec": {
      "name": "python3",
      "display_name": "Python 3"
    },
    "language_info": {
      "name": "python"
    }
  },
  "cells": [
    {
      "cell_type": "markdown",
      "metadata": {
        "id": "view-in-github",
        "colab_type": "text"
      },
      "source": [
        "<a href=\"https://colab.research.google.com/github/goodsmell/practice_py1/blob/main/11%EC%9B%9429%EC%9D%BC.ipynb\" target=\"_parent\"><img src=\"https://colab.research.google.com/assets/colab-badge.svg\" alt=\"Open In Colab\"/></a>"
      ]
    },
    {
      "cell_type": "code",
      "metadata": {
        "id": "NRwUFUNq-Sze"
      },
      "source": [
        "import numpy as np"
      ],
      "execution_count": 2,
      "outputs": []
    },
    {
      "cell_type": "code",
      "metadata": {
        "colab": {
          "base_uri": "https://localhost:8080/"
        },
        "id": "GD28uI9n_CbL",
        "outputId": "c7f67cfc-cf2c-4035-f42b-3564020d7304"
      },
      "source": [
        "A = np.array([[0,1,-2.3,0.1], [1.3, 4, -0.1, 0], [4.1, -1.0, 0,1.7]])\n",
        "print(A)\n",
        "A.shape"
      ],
      "execution_count": 12,
      "outputs": [
        {
          "output_type": "stream",
          "name": "stdout",
          "text": [
            "[[ 0.   1.  -2.3  0.1]\n",
            " [ 1.3  4.  -0.1  0. ]\n",
            " [ 4.1 -1.   0.   1.7]]\n"
          ]
        },
        {
          "output_type": "execute_result",
          "data": {
            "text/plain": [
              "(3, 4)"
            ]
          },
          "metadata": {},
          "execution_count": 12
        }
      ]
    },
    {
      "cell_type": "code",
      "metadata": {
        "colab": {
          "base_uri": "https://localhost:8080/"
        },
        "id": "ZtkL7gOb-86o",
        "outputId": "c2ccba81-12ea-4521-f55b-1a2a0417d27c"
      },
      "source": [
        "m,n = A.shape\n",
        "print('m:', m)\n",
        "print('n:', n)\n"
      ],
      "execution_count": 13,
      "outputs": [
        {
          "output_type": "stream",
          "name": "stdout",
          "text": [
            "m: 3\n",
            "n: 4\n"
          ]
        }
      ]
    },
    {
      "cell_type": "code",
      "metadata": {
        "colab": {
          "base_uri": "https://localhost:8080/"
        },
        "id": "OfpEUEFI_M4T",
        "outputId": "568c6aa1-7f83-4d5b-89ce-e1b07187753f"
      },
      "source": [
        "tall = lambda X: A.shape[0] > A.shape[1]\n",
        "tall(A)\n"
      ],
      "execution_count": 14,
      "outputs": [
        {
          "output_type": "execute_result",
          "data": {
            "text/plain": [
              "False"
            ]
          },
          "metadata": {},
          "execution_count": 14
        }
      ]
    },
    {
      "cell_type": "code",
      "metadata": {
        "colab": {
          "base_uri": "https://localhost:8080/"
        },
        "id": "PLGvFYyEABrT",
        "outputId": "2d73ce4b-fe3c-457d-a0cc-f90d9c7226ef"
      },
      "source": [
        "\n",
        "print('m:', len(A))\n",
        "print('n:', len(A[0]))"
      ],
      "execution_count": 15,
      "outputs": [
        {
          "output_type": "stream",
          "name": "stdout",
          "text": [
            "m: 3\n",
            "n: 4\n"
          ]
        }
      ]
    },
    {
      "cell_type": "code",
      "metadata": {
        "colab": {
          "base_uri": "https://localhost:8080/"
        },
        "id": "v-FcdGYGAtup",
        "outputId": "6fc33cd0-3f24-4a6e-b4b6-ce777eec108d"
      },
      "source": [
        "A[0,2]"
      ],
      "execution_count": 16,
      "outputs": [
        {
          "output_type": "execute_result",
          "data": {
            "text/plain": [
              "-2.3"
            ]
          },
          "metadata": {},
          "execution_count": 16
        }
      ]
    },
    {
      "cell_type": "code",
      "metadata": {
        "colab": {
          "base_uri": "https://localhost:8080/"
        },
        "id": "e3sLUB0TAv4p",
        "outputId": "181e744e-bbd1-4743-fab4-49d8aac0044c"
      },
      "source": [
        "A[0,2] = 7.5\n",
        "A"
      ],
      "execution_count": 17,
      "outputs": [
        {
          "output_type": "execute_result",
          "data": {
            "text/plain": [
              "array([[ 0. ,  1. ,  7.5,  0.1],\n",
              "       [ 1.3,  4. , -0.1,  0. ],\n",
              "       [ 4.1, -1. ,  0. ,  1.7]])"
            ]
          },
          "metadata": {},
          "execution_count": 17
        }
      ]
    },
    {
      "cell_type": "code",
      "metadata": {
        "colab": {
          "base_uri": "https://localhost:8080/"
        },
        "id": "iKl7_4_VBS-Z",
        "outputId": "b3ce0f81-53c9-4c81-b672-6a7f81fdd66f"
      },
      "source": [
        "B = A.copy()\n",
        "print(A == B)\n",
        "print(np.sum(A==B))"
      ],
      "execution_count": 22,
      "outputs": [
        {
          "output_type": "stream",
          "name": "stdout",
          "text": [
            "[[ True  True  True  True]\n",
            " [ True  True  True  True]\n",
            " [ True  True  True  True]]\n",
            "12\n"
          ]
        }
      ]
    },
    {
      "cell_type": "code",
      "metadata": {
        "colab": {
          "base_uri": "https://localhost:8080/"
        },
        "id": "7Xtyur9UBWls",
        "outputId": "adfb8bf5-e4be-49c3-dce6-3aaac7016b5b"
      },
      "source": [
        "A = [[0,1,-2.3,0.1],[1.3, 4, -0.1, 0],[4.1, -1.0, 0, 1.7]]\n",
        "B = [[0,1,-2.3,100],[1.3, 4, -0.1, 0],[4.1, -1.0, 0, 1.7]]\n",
        "A == B\n"
      ],
      "execution_count": 26,
      "outputs": [
        {
          "output_type": "execute_result",
          "data": {
            "text/plain": [
              "False"
            ]
          },
          "metadata": {},
          "execution_count": 26
        }
      ]
    },
    {
      "cell_type": "code",
      "metadata": {
        "colab": {
          "base_uri": "https://localhost:8080/"
        },
        "id": "alVM05g5Bbju",
        "outputId": "58c33a1a-ed11-4e1d-a9e4-cb071e053a81"
      },
      "source": [
        "A = np.array([[-1, 0, 1, 0],[2, -3, 0, 1],[0, 4, -2, 1]])\n",
        "A[0:2, 2:4]\n"
      ],
      "execution_count": 27,
      "outputs": [
        {
          "output_type": "execute_result",
          "data": {
            "text/plain": [
              "array([[1, 0],\n",
              "       [0, 1]])"
            ]
          },
          "metadata": {},
          "execution_count": 27
        }
      ]
    },
    {
      "cell_type": "code",
      "metadata": {
        "colab": {
          "base_uri": "https://localhost:8080/"
        },
        "id": "cypsoa1tBcl3",
        "outputId": "e1308508-c063-465b-d7bb-9deb96f48da8"
      },
      "source": [
        "A[:,2]"
      ],
      "execution_count": 28,
      "outputs": [
        {
          "output_type": "execute_result",
          "data": {
            "text/plain": [
              "array([ 1,  0, -2])"
            ]
          },
          "metadata": {},
          "execution_count": 28
        }
      ]
    },
    {
      "cell_type": "code",
      "metadata": {
        "colab": {
          "base_uri": "https://localhost:8080/"
        },
        "id": "nY47Cks6DmWX",
        "outputId": "14c48d56-af72-491b-c180-bddccdfa4f26"
      },
      "source": [
        "A[1,]"
      ],
      "execution_count": 31,
      "outputs": [
        {
          "output_type": "execute_result",
          "data": {
            "text/plain": [
              "array([ 2, -3,  0,  1])"
            ]
          },
          "metadata": {},
          "execution_count": 31
        }
      ]
    },
    {
      "cell_type": "code",
      "metadata": {
        "colab": {
          "base_uri": "https://localhost:8080/"
        },
        "id": "_mjJgVAaDous",
        "outputId": "9a57b7b0-2f83-4370-c259-52503f5fe8ab"
      },
      "source": [
        "A.reshape((6,2))"
      ],
      "execution_count": 32,
      "outputs": [
        {
          "output_type": "execute_result",
          "data": {
            "text/plain": [
              "array([[-1,  0],\n",
              "       [ 1,  0],\n",
              "       [ 2, -3],\n",
              "       [ 0,  1],\n",
              "       [ 0,  4],\n",
              "       [-2,  1]])"
            ]
          },
          "metadata": {},
          "execution_count": 32
        }
      ]
    },
    {
      "cell_type": "code",
      "metadata": {
        "colab": {
          "base_uri": "https://localhost:8080/"
        },
        "id": "cvAR24lZElRy",
        "outputId": "93354455-93c5-4305-998c-a8609ed6f812"
      },
      "source": [
        "B = np.array([0,2,3]) #1 by 3 matrix\n",
        "C = np.array([-1]) #1 by 1 matrix\n",
        "D = np.array([[2,2,1],[1,3,5]]) #2 by 3 matrix\n",
        "E = np.array([[4],[4]]) #2 by 1 matrix\n",
        "# Constrcut 3 by 4 block matrix\n",
        "A = np.block([[B,C],[D,E]])\n",
        "A"
      ],
      "execution_count": 34,
      "outputs": [
        {
          "output_type": "execute_result",
          "data": {
            "text/plain": [
              "array([[ 0,  2,  3, -1],\n",
              "       [ 2,  2,  1,  4],\n",
              "       [ 1,  3,  5,  4]])"
            ]
          },
          "metadata": {},
          "execution_count": 34
        }
      ]
    },
    {
      "cell_type": "code",
      "metadata": {
        "colab": {
          "base_uri": "https://localhost:8080/"
        },
        "id": "EKg-l-GVFQKV",
        "outputId": "222e335e-5882-4e3a-9570-600a6b128a0c"
      },
      "source": [
        "a = [1,2]\n",
        "b = [4,5]\n",
        "c = [7,8]\n",
        "A = np.vstack([a,b,c])\n",
        "B = np.hstack([a,b,c])\n",
        "print('matrix A :',A)\n",
        "print('dimensions of A :', A.shape)\n",
        "print('matrix B :',B)\n",
        "print('dimensions of B :', B.shape)"
      ],
      "execution_count": 35,
      "outputs": [
        {
          "output_type": "stream",
          "name": "stdout",
          "text": [
            "matrix A : [[1 2]\n",
            " [4 5]\n",
            " [7 8]]\n",
            "dimensions of A : (3, 2)\n",
            "matrix B : [1 2 4 5 7 8]\n",
            "dimensions of B : (6,)\n"
          ]
        }
      ]
    },
    {
      "cell_type": "code",
      "metadata": {
        "colab": {
          "base_uri": "https://localhost:8080/"
        },
        "id": "5Zryh3piGjvk",
        "outputId": "3d592282-0818-4e29-ebf4-04c3e64dff1c"
      },
      "source": [
        "a = [[1],[2]]\n",
        "b = [[4],[5]]\n",
        "c = [[7],[8]]\n",
        "A = np.vstack([a,b,c])\n",
        "B = np.hstack([a,b,c])\n",
        "print('matrix A :',A)\n",
        "print('dimensions of A :', A.shape)\n",
        "print('matrix B :',B)\n",
        "print('dimensions of B :', B.shape)\n",
        "\n"
      ],
      "execution_count": 37,
      "outputs": [
        {
          "output_type": "stream",
          "name": "stdout",
          "text": [
            "matrix A : [[1]\n",
            " [2]\n",
            " [4]\n",
            " [5]\n",
            " [7]\n",
            " [8]]\n",
            "dimensions of A : (6, 1)\n",
            "matrix B : [[1 4 7]\n",
            " [2 5 8]]\n",
            "dimensions of B : (2, 3)\n"
          ]
        }
      ]
    },
    {
      "cell_type": "code",
      "metadata": {
        "colab": {
          "base_uri": "https://localhost:8080/"
        },
        "id": "AphcJ71kH0B9",
        "outputId": "c83746ae-40a6-4b95-93bd-d390ac7b2b61"
      },
      "source": [
        "np.zeros((2,2))"
      ],
      "execution_count": 45,
      "outputs": [
        {
          "output_type": "execute_result",
          "data": {
            "text/plain": [
              "array([[0., 0.],\n",
              "       [0., 0.]])"
            ]
          },
          "metadata": {},
          "execution_count": 45
        }
      ]
    },
    {
      "cell_type": "code",
      "metadata": {
        "colab": {
          "base_uri": "https://localhost:8080/"
        },
        "id": "51V0wllgJJKs",
        "outputId": "e2bbe859-0d26-40b1-c54e-3d35644acbe3"
      },
      "source": [
        "np.ones((3,4))"
      ],
      "execution_count": 46,
      "outputs": [
        {
          "output_type": "execute_result",
          "data": {
            "text/plain": [
              "array([[1., 1., 1., 1.],\n",
              "       [1., 1., 1., 1.],\n",
              "       [1., 1., 1., 1.]])"
            ]
          },
          "metadata": {},
          "execution_count": 46
        }
      ]
    },
    {
      "cell_type": "code",
      "metadata": {
        "colab": {
          "base_uri": "https://localhost:8080/"
        },
        "id": "YDIo9fwUH4dH",
        "outputId": "dd1dec31-6e1e-4101-a86b-7554c45992f1"
      },
      "source": [
        "np.identity(4)"
      ],
      "execution_count": 40,
      "outputs": [
        {
          "output_type": "execute_result",
          "data": {
            "text/plain": [
              "array([[1., 0., 0., 0.],\n",
              "       [0., 1., 0., 0.],\n",
              "       [0., 0., 1., 0.],\n",
              "       [0., 0., 0., 1.]])"
            ]
          },
          "metadata": {},
          "execution_count": 40
        }
      ]
    },
    {
      "cell_type": "code",
      "metadata": {
        "colab": {
          "base_uri": "https://localhost:8080/"
        },
        "id": "s6Mzjgb1H9rc",
        "outputId": "41d5d7c8-64d1-40d6-b2ef-80a6633ad619"
      },
      "source": [
        " x = np.array([[0, 1, 2],\n",
        "[3, 4, 5],\n",
        "[6, 7, 8]])\n",
        "print(np.diag(x))"
      ],
      "execution_count": 41,
      "outputs": [
        {
          "output_type": "stream",
          "name": "stdout",
          "text": [
            "[0 4 8]\n"
          ]
        }
      ]
    },
    {
      "cell_type": "code",
      "metadata": {
        "colab": {
          "base_uri": "https://localhost:8080/"
        },
        "id": "u_qAY9oWIBW6",
        "outputId": "a2e290e7-8419-412c-a195-b985af3025b8"
      },
      "source": [
        "print(np.diag(np.diag(x)))"
      ],
      "execution_count": 42,
      "outputs": [
        {
          "output_type": "stream",
          "name": "stdout",
          "text": [
            "[[0 0 0]\n",
            " [0 4 0]\n",
            " [0 0 8]]\n"
          ]
        }
      ]
    },
    {
      "cell_type": "code",
      "metadata": {
        "colab": {
          "base_uri": "https://localhost:8080/"
        },
        "id": "PjmC9aUOIEYS",
        "outputId": "70630a4a-9c74-448c-f0c4-7998d40c0492"
      },
      "source": [
        "np.random.random((2,3))"
      ],
      "execution_count": 43,
      "outputs": [
        {
          "output_type": "execute_result",
          "data": {
            "text/plain": [
              "array([[0.84231111, 0.14818752, 0.79522647],\n",
              "       [0.35992743, 0.04577168, 0.53818432]])"
            ]
          },
          "metadata": {},
          "execution_count": 43
        }
      ]
    },
    {
      "cell_type": "code",
      "metadata": {
        "colab": {
          "base_uri": "https://localhost:8080/"
        },
        "id": "gkfzoeBBIfwa",
        "outputId": "edf9d52a-a45d-4b47-a647-581a1223b9df"
      },
      "source": [
        "np.random.randn(3,2)\n"
      ],
      "execution_count": 44,
      "outputs": [
        {
          "output_type": "execute_result",
          "data": {
            "text/plain": [
              "array([[ 0.00645713,  0.75466147],\n",
              "       [-0.30168865,  1.81187285],\n",
              "       [-0.74228771,  0.830466  ]])"
            ]
          },
          "metadata": {},
          "execution_count": 44
        }
      ]
    },
    {
      "cell_type": "markdown",
      "metadata": {
        "id": "H_X6TswqIzqJ"
      },
      "source": [
        ""
      ]
    },
    {
      "cell_type": "code",
      "metadata": {
        "colab": {
          "base_uri": "https://localhost:8080/"
        },
        "id": "6ABv5HwfLdJp",
        "outputId": "ecd74b27-1f20-4923-f6be-f2d35526aa86"
      },
      "source": [
        "H = np.array([[0,1,-2,1], [2,-1,3,0]])\n",
        "H.T\n"
      ],
      "execution_count": 59,
      "outputs": [
        {
          "output_type": "execute_result",
          "data": {
            "text/plain": [
              "array([[ 0,  2],\n",
              "       [ 1, -1],\n",
              "       [-2,  3],\n",
              "       [ 1,  0]])"
            ]
          },
          "metadata": {},
          "execution_count": 59
        }
      ]
    },
    {
      "cell_type": "code",
      "metadata": {
        "colab": {
          "base_uri": "https://localhost:8080/"
        },
        "id": "RZgOj8vMLgKB",
        "outputId": "721bfc3c-1b8c-49ce-af80-c3f6db2220be"
      },
      "source": [
        "np.transpose(H)\n"
      ],
      "execution_count": 60,
      "outputs": [
        {
          "output_type": "execute_result",
          "data": {
            "text/plain": [
              "array([[ 0,  2],\n",
              "       [ 1, -1],\n",
              "       [-2,  3],\n",
              "       [ 1,  0]])"
            ]
          },
          "metadata": {},
          "execution_count": 60
        }
      ]
    },
    {
      "cell_type": "code",
      "metadata": {
        "colab": {
          "base_uri": "https://localhost:8080/"
        },
        "id": "EBISsucnLhu9",
        "outputId": "bae0cee1-d8d8-4f7f-c64a-e149a8c892dc"
      },
      "source": [
        "U = np.array([[0,4], [7,0], [3,1]])\n",
        "V = np.array([[1,2], [2,3], [0,4]])\n",
        "U + V\n"
      ],
      "execution_count": 55,
      "outputs": [
        {
          "output_type": "execute_result",
          "data": {
            "text/plain": [
              "array([[1, 6],\n",
              "       [9, 3],\n",
              "       [3, 5]])"
            ]
          },
          "metadata": {},
          "execution_count": 55
        }
      ]
    },
    {
      "cell_type": "code",
      "metadata": {
        "colab": {
          "base_uri": "https://localhost:8080/"
        },
        "id": "OSh76x3sLjgB",
        "outputId": "a0901cb1-ac1c-4999-a388-1922e6de98cc"
      },
      "source": [
        "2.2*U"
      ],
      "execution_count": 56,
      "outputs": [
        {
          "output_type": "execute_result",
          "data": {
            "text/plain": [
              "array([[ 0. ,  8.8],\n",
              "       [15.4,  0. ],\n",
              "       [ 6.6,  2.2]])"
            ]
          },
          "metadata": {},
          "execution_count": 56
        }
      ]
    },
    {
      "cell_type": "code",
      "metadata": {
        "colab": {
          "base_uri": "https://localhost:8080/"
        },
        "id": "UHQ-qTlFMnxs",
        "outputId": "67d56dd2-a623-4687-dfb5-cc04c2393dce"
      },
      "source": [
        "A = np.array([[2,3,-1], [0,-1,4]])\n",
        "np.linalg.norm(A)\n"
      ],
      "execution_count": 61,
      "outputs": [
        {
          "output_type": "execute_result",
          "data": {
            "text/plain": [
              "5.5677643628300215"
            ]
          },
          "metadata": {},
          "execution_count": 61
        }
      ]
    },
    {
      "cell_type": "code",
      "metadata": {
        "colab": {
          "base_uri": "https://localhost:8080/"
        },
        "id": "9n620m_lMpMi",
        "outputId": "b2c1cae8-c614-4808-de78-98f99cbcd3e9"
      },
      "source": [
        "np.linalg.norm(A[:])"
      ],
      "execution_count": 62,
      "outputs": [
        {
          "output_type": "execute_result",
          "data": {
            "text/plain": [
              "5.5677643628300215"
            ]
          },
          "metadata": {},
          "execution_count": 62
        }
      ]
    },
    {
      "cell_type": "code",
      "metadata": {
        "colab": {
          "base_uri": "https://localhost:8080/"
        },
        "id": "gDtfcp5ALlJi",
        "outputId": "ec1df5a2-981b-4b81-cad5-b6fade1af3f4"
      },
      "source": [
        "A = np.array([[0,2,-1],[-2,1,1]])\n",
        "x = np.array([2,1,-1])\n",
        "A @ x\n"
      ],
      "execution_count": 57,
      "outputs": [
        {
          "output_type": "execute_result",
          "data": {
            "text/plain": [
              "array([ 3, -4])"
            ]
          },
          "metadata": {},
          "execution_count": 57
        }
      ]
    },
    {
      "cell_type": "code",
      "metadata": {
        "colab": {
          "base_uri": "https://localhost:8080/"
        },
        "id": "V95rkvrfLpyt",
        "outputId": "33c78b61-a99e-4982-b1be-746145fe201f"
      },
      "source": [
        "np.matmul(A,x)"
      ],
      "execution_count": 58,
      "outputs": [
        {
          "output_type": "execute_result",
          "data": {
            "text/plain": [
              "array([ 3, -4])"
            ]
          },
          "metadata": {},
          "execution_count": 58
        }
      ]
    },
    {
      "cell_type": "code",
      "metadata": {
        "colab": {
          "base_uri": "https://localhost:8080/"
        },
        "id": "LPWwv3RDLrb7",
        "outputId": "d5c1d758-5d8a-4bcf-ac6b-3ff4bb6e5662"
      },
      "source": [
        "Rot = lambda theta: [[np.cos(theta), -np.sin(theta)],\n",
        "[np.sin(theta), np.cos(theta)]]\n",
        "R = Rot(np.pi/3)\n",
        "R"
      ],
      "execution_count": 63,
      "outputs": [
        {
          "output_type": "execute_result",
          "data": {
            "text/plain": [
              "[[0.5000000000000001, -0.8660254037844386],\n",
              " [0.8660254037844386, 0.5000000000000001]]"
            ]
          },
          "metadata": {},
          "execution_count": 63
        }
      ]
    },
    {
      "cell_type": "code",
      "metadata": {
        "colab": {
          "base_uri": "https://localhost:8080/"
        },
        "id": "-jNRb0qKNuU5",
        "outputId": "eab966ae-c740-40f1-c1ed-28dbe334d363"
      },
      "source": [
        "points = np.array([[1,0],[1.5,0],[2,0],[1,0.25],[1.5,0.25],[1,0.5]])\n",
        "print(points)\n",
        "#Now rotate them\n",
        "rpoints = np.array([R @ p for p in points])\n",
        "print(rpoints)\n"
      ],
      "execution_count": 66,
      "outputs": [
        {
          "output_type": "stream",
          "name": "stdout",
          "text": [
            "[[1.   0.  ]\n",
            " [1.5  0.  ]\n",
            " [2.   0.  ]\n",
            " [1.   0.25]\n",
            " [1.5  0.25]\n",
            " [1.   0.5 ]]\n",
            "[[0.5        0.8660254 ]\n",
            " [0.75       1.29903811]\n",
            " [1.         1.73205081]\n",
            " [0.28349365 0.9910254 ]\n",
            " [0.53349365 1.42403811]\n",
            " [0.0669873  1.1160254 ]]\n"
          ]
        }
      ]
    },
    {
      "cell_type": "code",
      "metadata": {
        "colab": {
          "base_uri": "https://localhost:8080/",
          "height": 265
        },
        "id": "Z0FRW-FDN6hu",
        "outputId": "e039d076-3830-4612-c09c-2059af31dd95"
      },
      "source": [
        "#Show the two sets of points\n",
        "import matplotlib.pyplot as plt\n",
        "plt.ion()\n",
        "plt.scatter([c[0] for c in points], [c[1] for c in points])\n",
        "plt.scatter([c[0] for c in rpoints],[c[1] for c in rpoints])\n",
        "plt.show()"
      ],
      "execution_count": 67,
      "outputs": [
        {
          "output_type": "display_data",
          "data": {
            "image/png": "[encoded data removed]",
            "text/plain": [
              "<Figure size 432x288 with 1 Axes>"
            ]
          },
          "metadata": {
            "needs_background": "light"
          }
        }
      ]
    },
    {
      "cell_type": "code",
      "metadata": {
        "id": "BUUrvmmhOMW5"
      },
      "source": [
        ""
      ],
      "execution_count": null,
      "outputs": []
    }
  ]
}